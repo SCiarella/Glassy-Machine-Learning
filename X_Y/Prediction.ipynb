{
 "cells": [
  {
   "cell_type": "code",
   "execution_count": 1,
   "id": "original-flood",
   "metadata": {},
   "outputs": [],
   "source": [
    "import pandas as pd\n",
    "import seaborn as sns"
   ]
  },
  {
   "cell_type": "markdown",
   "id": "funded-reunion",
   "metadata": {},
   "source": [
    "The input consists in 60 features and we have a total of 355 entries"
   ]
  },
  {
   "cell_type": "code",
   "execution_count": 2,
   "id": "indoor-colorado",
   "metadata": {},
   "outputs": [
    {
     "name": "stdout",
     "output_type": "stream",
     "text": [
      "       AA_0        AA_1         AA_2         AA_3      AA_4        AA_5  \\\n",
      "0 -0.172409    7.667924 -1220.791304 -4840.323841 -3.594498   26.631613   \n",
      "1 -6.518054  170.704308   423.294162  -434.068272 -1.878524   13.100269   \n",
      "2 -0.136293    6.993067  2477.870447 -8385.579930  6.689322   30.528608   \n",
      "3  2.712016   14.120212 -6911.504584 -8078.546083 -4.870796  137.317839   \n",
      "4 -0.093258   32.958313 -6418.941496 -1436.092921 -0.182052    7.942547   \n",
      "\n",
      "          AA_6         AA_7      AA_8       AA_9  ...     BB_16     AA_min  \\\n",
      "0  4398.225000  4498.513705 -1.573383  31.851562  ...  0.940441 -14.240520   \n",
      "1 -2513.273963 -3758.839135 -0.159738   7.387870  ...  0.938525 -11.362966   \n",
      "2 -7526.167337  -146.073301 -0.862950  86.084658  ...  0.943649 -14.454794   \n",
      "3  -390.049552  3443.994469  3.965135  28.919154  ...  0.934364  -9.931874   \n",
      "4 -3734.477809  2064.468355 -1.225585  76.101379  ...  0.942109 -12.536374   \n",
      "\n",
      "     AA_max    AB_min    AB_max    BB_min    BB_max    T  rho  model  \n",
      "0  0.489413 -1.204009  0.060857  1.792210  2.543866  9.9  1.6      0  \n",
      "1  0.504025 -0.869977  0.078201  2.248872  2.896889  9.8  1.4      0  \n",
      "2  0.491803 -1.219235  0.061356  1.792477  2.540990  9.8  1.6      0  \n",
      "3  0.539272 -0.697804  0.100882  2.798117  3.370060  9.0  1.2      0  \n",
      "4  0.511304 -0.964642  0.079405  2.229118  2.895090  9.0  1.4      0  \n",
      "\n",
      "[5 rows x 60 columns]\n",
      "(355, 60)\n"
     ]
    }
   ],
   "source": [
    "X = pd.read_csv('x.csv')\n",
    "print(X.head())\n",
    "print(X.shape)"
   ]
  },
  {
   "cell_type": "markdown",
   "id": "israeli-incentive",
   "metadata": {},
   "source": [
    "We want to predict 27 floating point outputs from the input data"
   ]
  },
  {
   "cell_type": "code",
   "execution_count": 3,
   "id": "apart-november",
   "metadata": {},
   "outputs": [
    {
     "name": "stdout",
     "output_type": "stream",
     "text": [
      "     w_AA_0   t0_AA_0    a_AA_0    b_AA_0        w_AA_1   t0_AA_1    a_AA_1  \\\n",
      "0  0.228322  0.124018 -2.819082  2.334874  2.443147e-05  0.749883 -0.879182   \n",
      "1  0.204227  0.120999 -3.850469  2.939569  1.449764e-07  0.463015 -0.766732   \n",
      "2  0.165903  0.153179 -2.601448  4.541583  7.195028e-05  0.208255 -0.888788   \n",
      "3  0.214907  0.126567 -3.057595  2.388040  5.227315e-05  0.702713 -0.798578   \n",
      "4  0.184886  0.131262 -3.722373  2.427054  2.896326e-04  0.586674 -1.014061   \n",
      "\n",
      "     b_AA_1      c_AA        w_AB_0  ...      c_AB    w_BB_0   t0_BB_0  \\\n",
      "0  0.615354 -0.356599  1.563313e-05  ...  0.090925  0.053514  0.180889   \n",
      "1  0.126668 -0.093676  4.130925e-08  ... -1.502683  0.008121  0.247915   \n",
      "2  0.325474 -0.439259  8.650406e-06  ... -1.343909  0.000134  1.092953   \n",
      "3  0.295806 -0.342688  9.238257e-07  ...  0.120454  0.051447  0.187341   \n",
      "4  0.549101 -0.311859  4.344589e-06  ...  0.096659  0.038565  0.200575   \n",
      "\n",
      "     a_BB_0    b_BB_0        w_BB_1   t0_BB_1    a_BB_1    b_BB_1      c_BB  \n",
      "0 -2.383147  2.066276  1.286598e-05  0.822379 -0.895481  0.408330 -0.873173  \n",
      "1 -3.965760  2.831034 -5.282985e-06  1.076257 -0.624012  0.000089 -0.725932  \n",
      "2 -0.716537  0.744943  1.982133e-05  1.085617  0.071503  0.235511 -0.811406  \n",
      "3 -2.533704  2.225513  7.405511e-06  0.857886 -0.795877  0.512627 -0.869594  \n",
      "4 -3.090306  2.337483  9.504892e-07  0.687950 -0.877554  0.426058 -0.881485  \n",
      "\n",
      "[5 rows x 27 columns]\n",
      "(355, 27)\n"
     ]
    }
   ],
   "source": [
    "y = pd.read_csv('y.csv')\n",
    "print(y.head())\n",
    "print(y.shape)"
   ]
  },
  {
   "cell_type": "code",
   "execution_count": 4,
   "id": "cheap-language",
   "metadata": {},
   "outputs": [],
   "source": [
    "from sklearn.model_selection import train_test_split\n",
    "X_train, X_test, y_train, y_test = train_test_split(X, y, test_size=0.2, random_state=5)"
   ]
  },
  {
   "cell_type": "code",
   "execution_count": 5,
   "id": "stable-landscape",
   "metadata": {},
   "outputs": [],
   "source": [
    "import sklearn.preprocessing\n",
    "min_max_scaler = sklearn.preprocessing.MinMaxScaler()"
   ]
  },
  {
   "cell_type": "code",
   "execution_count": 6,
   "id": "seventh-grocery",
   "metadata": {},
   "outputs": [
    {
     "name": "stdout",
     "output_type": "stream",
     "text": [
      "Index(['AA_1', 'AA_2', 'AA_3', 'AA_4', 'AA_5', 'AA_6', 'AA_7', 'AA_8', 'AA_9',\n",
      "       'AA_10', 'AA_11', 'AA_12', 'AA_13', 'AA_14', 'AA_15', 'AA_16', 'AB_0',\n",
      "       'AB_1', 'AB_2', 'AB_3', 'AB_4', 'AB_5', 'AB_6', 'AB_7', 'AB_8', 'AB_9',\n",
      "       'AB_10', 'AB_11', 'AB_12', 'AB_13', 'AB_14', 'AB_15', 'AB_16', 'BB_0',\n",
      "       'BB_1', 'BB_2', 'BB_3', 'BB_4', 'BB_5', 'BB_6', 'BB_7', 'BB_8', 'BB_9',\n",
      "       'BB_10', 'BB_11', 'BB_12', 'BB_13', 'BB_14', 'BB_15', 'BB_16', 'AA_min',\n",
      "       'AA_max', 'AB_min', 'AB_max', 'BB_min', 'BB_max', 'T', 'rho', 'model'],\n",
      "      dtype='object')\n",
      "Index(['t0_AA_0', 'a_AA_0', 'b_AA_0', 'w_AA_1', 't0_AA_1', 'a_AA_1', 'b_AA_1',\n",
      "       'c_AA', 'w_AB_0', 't0_AB_0', 'a_AB_0', 'b_AB_0', 'w_AB_1', 't0_AB_1',\n",
      "       'a_AB_1', 'b_AB_1', 'c_AB', 'w_BB_0', 't0_BB_0', 'a_BB_0', 'b_BB_0',\n",
      "       'w_BB_1', 't0_BB_1', 'a_BB_1', 'b_BB_1', 'c_BB'],\n",
      "      dtype='object')\n"
     ]
    }
   ],
   "source": [
    "feature_names = X.columns[1:]\n",
    "print(feature_names)\n",
    "output_names = y.columns[1:]\n",
    "print(output_names)"
   ]
  },
  {
   "cell_type": "code",
   "execution_count": 7,
   "id": "viral-worst",
   "metadata": {},
   "outputs": [
    {
     "data": {
      "text/html": [
       "<div>\n",
       "<style scoped>\n",
       "    .dataframe tbody tr th:only-of-type {\n",
       "        vertical-align: middle;\n",
       "    }\n",
       "\n",
       "    .dataframe tbody tr th {\n",
       "        vertical-align: top;\n",
       "    }\n",
       "\n",
       "    .dataframe thead th {\n",
       "        text-align: right;\n",
       "    }\n",
       "</style>\n",
       "<table border=\"1\" class=\"dataframe\">\n",
       "  <thead>\n",
       "    <tr style=\"text-align: right;\">\n",
       "      <th></th>\n",
       "      <th>AA_0</th>\n",
       "      <th>AA_1</th>\n",
       "      <th>AA_2</th>\n",
       "      <th>AA_3</th>\n",
       "      <th>AA_4</th>\n",
       "      <th>AA_5</th>\n",
       "      <th>AA_6</th>\n",
       "      <th>AA_7</th>\n",
       "      <th>AA_8</th>\n",
       "      <th>AA_9</th>\n",
       "      <th>...</th>\n",
       "      <th>BB_16</th>\n",
       "      <th>AA_min</th>\n",
       "      <th>AA_max</th>\n",
       "      <th>AB_min</th>\n",
       "      <th>AB_max</th>\n",
       "      <th>BB_min</th>\n",
       "      <th>BB_max</th>\n",
       "      <th>T</th>\n",
       "      <th>rho</th>\n",
       "      <th>model</th>\n",
       "    </tr>\n",
       "  </thead>\n",
       "  <tbody>\n",
       "    <tr>\n",
       "      <th>count</th>\n",
       "      <td>284.000000</td>\n",
       "      <td>284.000000</td>\n",
       "      <td>284.000000</td>\n",
       "      <td>284.000000</td>\n",
       "      <td>284.000000</td>\n",
       "      <td>284.000000</td>\n",
       "      <td>284.000000</td>\n",
       "      <td>284.000000</td>\n",
       "      <td>284.000000</td>\n",
       "      <td>284.000000</td>\n",
       "      <td>...</td>\n",
       "      <td>284.000000</td>\n",
       "      <td>284.000000</td>\n",
       "      <td>284.000000</td>\n",
       "      <td>284.000000</td>\n",
       "      <td>284.000000</td>\n",
       "      <td>284.000000</td>\n",
       "      <td>284.000000</td>\n",
       "      <td>284.000000</td>\n",
       "      <td>284.000000</td>\n",
       "      <td>284.000000</td>\n",
       "    </tr>\n",
       "    <tr>\n",
       "      <th>mean</th>\n",
       "      <td>18.098361</td>\n",
       "      <td>0.016860</td>\n",
       "      <td>0.499940</td>\n",
       "      <td>0.508982</td>\n",
       "      <td>0.527043</td>\n",
       "      <td>0.107893</td>\n",
       "      <td>0.482583</td>\n",
       "      <td>0.505710</td>\n",
       "      <td>0.737242</td>\n",
       "      <td>0.172327</td>\n",
       "      <td>...</td>\n",
       "      <td>0.642973</td>\n",
       "      <td>0.696916</td>\n",
       "      <td>0.512851</td>\n",
       "      <td>0.621600</td>\n",
       "      <td>0.392591</td>\n",
       "      <td>0.554542</td>\n",
       "      <td>0.430080</td>\n",
       "      <td>0.176278</td>\n",
       "      <td>0.528169</td>\n",
       "      <td>0.478873</td>\n",
       "    </tr>\n",
       "    <tr>\n",
       "      <th>std</th>\n",
       "      <td>171.284916</td>\n",
       "      <td>0.064559</td>\n",
       "      <td>0.272656</td>\n",
       "      <td>0.269161</td>\n",
       "      <td>0.056506</td>\n",
       "      <td>0.140275</td>\n",
       "      <td>0.266214</td>\n",
       "      <td>0.269470</td>\n",
       "      <td>0.059337</td>\n",
       "      <td>0.230219</td>\n",
       "      <td>...</td>\n",
       "      <td>0.200354</td>\n",
       "      <td>0.169832</td>\n",
       "      <td>0.239524</td>\n",
       "      <td>0.216419</td>\n",
       "      <td>0.236833</td>\n",
       "      <td>0.185355</td>\n",
       "      <td>0.353242</td>\n",
       "      <td>0.192650</td>\n",
       "      <td>0.397762</td>\n",
       "      <td>0.500435</td>\n",
       "    </tr>\n",
       "    <tr>\n",
       "      <th>min</th>\n",
       "      <td>-929.851921</td>\n",
       "      <td>0.000000</td>\n",
       "      <td>0.000000</td>\n",
       "      <td>0.000000</td>\n",
       "      <td>0.000000</td>\n",
       "      <td>0.000000</td>\n",
       "      <td>0.000000</td>\n",
       "      <td>0.000000</td>\n",
       "      <td>0.000000</td>\n",
       "      <td>0.000000</td>\n",
       "      <td>...</td>\n",
       "      <td>0.000000</td>\n",
       "      <td>0.000000</td>\n",
       "      <td>0.000000</td>\n",
       "      <td>0.000000</td>\n",
       "      <td>0.000000</td>\n",
       "      <td>0.000000</td>\n",
       "      <td>0.000000</td>\n",
       "      <td>0.000000</td>\n",
       "      <td>0.000000</td>\n",
       "      <td>0.000000</td>\n",
       "    </tr>\n",
       "    <tr>\n",
       "      <th>25%</th>\n",
       "      <td>-1.782278</td>\n",
       "      <td>0.002921</td>\n",
       "      <td>0.250466</td>\n",
       "      <td>0.272647</td>\n",
       "      <td>0.524377</td>\n",
       "      <td>0.010802</td>\n",
       "      <td>0.272665</td>\n",
       "      <td>0.303352</td>\n",
       "      <td>0.742157</td>\n",
       "      <td>0.042538</td>\n",
       "      <td>...</td>\n",
       "      <td>0.581618</td>\n",
       "      <td>0.613180</td>\n",
       "      <td>0.353665</td>\n",
       "      <td>0.491559</td>\n",
       "      <td>0.233416</td>\n",
       "      <td>0.464111</td>\n",
       "      <td>0.054865</td>\n",
       "      <td>0.059067</td>\n",
       "      <td>0.000000</td>\n",
       "      <td>0.000000</td>\n",
       "    </tr>\n",
       "    <tr>\n",
       "      <th>50%</th>\n",
       "      <td>0.081263</td>\n",
       "      <td>0.006490</td>\n",
       "      <td>0.497855</td>\n",
       "      <td>0.520427</td>\n",
       "      <td>0.524838</td>\n",
       "      <td>0.050072</td>\n",
       "      <td>0.483961</td>\n",
       "      <td>0.493809</td>\n",
       "      <td>0.742618</td>\n",
       "      <td>0.084803</td>\n",
       "      <td>...</td>\n",
       "      <td>0.682798</td>\n",
       "      <td>0.717894</td>\n",
       "      <td>0.497455</td>\n",
       "      <td>0.672465</td>\n",
       "      <td>0.349684</td>\n",
       "      <td>0.565392</td>\n",
       "      <td>0.409365</td>\n",
       "      <td>0.129534</td>\n",
       "      <td>0.500000</td>\n",
       "      <td>0.000000</td>\n",
       "    </tr>\n",
       "    <tr>\n",
       "      <th>75%</th>\n",
       "      <td>2.159065</td>\n",
       "      <td>0.009691</td>\n",
       "      <td>0.718075</td>\n",
       "      <td>0.737534</td>\n",
       "      <td>0.525316</td>\n",
       "      <td>0.142618</td>\n",
       "      <td>0.703298</td>\n",
       "      <td>0.730145</td>\n",
       "      <td>0.743127</td>\n",
       "      <td>0.176202</td>\n",
       "      <td>...</td>\n",
       "      <td>0.778609</td>\n",
       "      <td>0.812441</td>\n",
       "      <td>0.631886</td>\n",
       "      <td>0.771009</td>\n",
       "      <td>0.540284</td>\n",
       "      <td>0.692229</td>\n",
       "      <td>0.885897</td>\n",
       "      <td>0.213731</td>\n",
       "      <td>1.000000</td>\n",
       "      <td>1.000000</td>\n",
       "    </tr>\n",
       "    <tr>\n",
       "      <th>max</th>\n",
       "      <td>1786.402041</td>\n",
       "      <td>1.000000</td>\n",
       "      <td>1.000000</td>\n",
       "      <td>1.000000</td>\n",
       "      <td>1.000000</td>\n",
       "      <td>1.000000</td>\n",
       "      <td>1.000000</td>\n",
       "      <td>1.000000</td>\n",
       "      <td>1.000000</td>\n",
       "      <td>1.000000</td>\n",
       "      <td>...</td>\n",
       "      <td>1.000000</td>\n",
       "      <td>1.000000</td>\n",
       "      <td>1.000000</td>\n",
       "      <td>1.000000</td>\n",
       "      <td>1.000000</td>\n",
       "      <td>1.000000</td>\n",
       "      <td>1.000000</td>\n",
       "      <td>1.000000</td>\n",
       "      <td>1.000000</td>\n",
       "      <td>1.000000</td>\n",
       "    </tr>\n",
       "  </tbody>\n",
       "</table>\n",
       "<p>8 rows × 60 columns</p>\n",
       "</div>"
      ],
      "text/plain": [
       "              AA_0        AA_1        AA_2        AA_3        AA_4  \\\n",
       "count   284.000000  284.000000  284.000000  284.000000  284.000000   \n",
       "mean     18.098361    0.016860    0.499940    0.508982    0.527043   \n",
       "std     171.284916    0.064559    0.272656    0.269161    0.056506   \n",
       "min    -929.851921    0.000000    0.000000    0.000000    0.000000   \n",
       "25%      -1.782278    0.002921    0.250466    0.272647    0.524377   \n",
       "50%       0.081263    0.006490    0.497855    0.520427    0.524838   \n",
       "75%       2.159065    0.009691    0.718075    0.737534    0.525316   \n",
       "max    1786.402041    1.000000    1.000000    1.000000    1.000000   \n",
       "\n",
       "             AA_5        AA_6        AA_7        AA_8        AA_9  ...  \\\n",
       "count  284.000000  284.000000  284.000000  284.000000  284.000000  ...   \n",
       "mean     0.107893    0.482583    0.505710    0.737242    0.172327  ...   \n",
       "std      0.140275    0.266214    0.269470    0.059337    0.230219  ...   \n",
       "min      0.000000    0.000000    0.000000    0.000000    0.000000  ...   \n",
       "25%      0.010802    0.272665    0.303352    0.742157    0.042538  ...   \n",
       "50%      0.050072    0.483961    0.493809    0.742618    0.084803  ...   \n",
       "75%      0.142618    0.703298    0.730145    0.743127    0.176202  ...   \n",
       "max      1.000000    1.000000    1.000000    1.000000    1.000000  ...   \n",
       "\n",
       "            BB_16      AA_min      AA_max      AB_min      AB_max      BB_min  \\\n",
       "count  284.000000  284.000000  284.000000  284.000000  284.000000  284.000000   \n",
       "mean     0.642973    0.696916    0.512851    0.621600    0.392591    0.554542   \n",
       "std      0.200354    0.169832    0.239524    0.216419    0.236833    0.185355   \n",
       "min      0.000000    0.000000    0.000000    0.000000    0.000000    0.000000   \n",
       "25%      0.581618    0.613180    0.353665    0.491559    0.233416    0.464111   \n",
       "50%      0.682798    0.717894    0.497455    0.672465    0.349684    0.565392   \n",
       "75%      0.778609    0.812441    0.631886    0.771009    0.540284    0.692229   \n",
       "max      1.000000    1.000000    1.000000    1.000000    1.000000    1.000000   \n",
       "\n",
       "           BB_max           T         rho       model  \n",
       "count  284.000000  284.000000  284.000000  284.000000  \n",
       "mean     0.430080    0.176278    0.528169    0.478873  \n",
       "std      0.353242    0.192650    0.397762    0.500435  \n",
       "min      0.000000    0.000000    0.000000    0.000000  \n",
       "25%      0.054865    0.059067    0.000000    0.000000  \n",
       "50%      0.409365    0.129534    0.500000    0.000000  \n",
       "75%      0.885897    0.213731    1.000000    1.000000  \n",
       "max      1.000000    1.000000    1.000000    1.000000  \n",
       "\n",
       "[8 rows x 60 columns]"
      ]
     },
     "execution_count": 7,
     "metadata": {},
     "output_type": "execute_result"
    }
   ],
   "source": [
    "X_train_scaled = X_train.copy()\n",
    "X_train_scaled[feature_names] = min_max_scaler.fit_transform(X_train[feature_names])\n",
    "X_train_scaled.describe()"
   ]
  },
  {
   "cell_type": "code",
   "execution_count": 8,
   "id": "loaded-school",
   "metadata": {},
   "outputs": [],
   "source": [
    "X_test_scaled = X_test.copy()\n",
    "X_test_scaled[feature_names] = min_max_scaler.fit_transform(X_test[feature_names])\n",
    "\n",
    "y_test_scaled = y_test.copy()\n",
    "y_test_scaled[output_names] = min_max_scaler.fit_transform(y_test[output_names])\n",
    "\n",
    "y_train_scaled = y_train.copy()\n",
    "y_train_scaled[output_names] = min_max_scaler.fit_transform(y_train[output_names])"
   ]
  },
  {
   "cell_type": "code",
   "execution_count": 9,
   "id": "german-pressing",
   "metadata": {},
   "outputs": [
    {
     "name": "stderr",
     "output_type": "stream",
     "text": [
      "/home/simone/.local/lib/python3.8/site-packages/sklearn/neural_network/_multilayer_perceptron.py:500: ConvergenceWarning: lbfgs failed to converge (status=1):\n",
      "STOP: TOTAL NO. of f AND g EVALUATIONS EXCEEDS LIMIT.\n",
      "\n",
      "Increase the number of iterations (max_iter) or scale the data as shown in:\n",
      "    https://scikit-learn.org/stable/modules/preprocessing.html\n",
      "  self.n_iter_ = _check_optimize_result(\"lbfgs\", opt_res, self.max_iter)\n"
     ]
    },
    {
     "data": {
      "text/plain": [
       "MLPRegressor(alpha=0.001, hidden_layer_sizes=(100, 100), max_iter=100000,\n",
       "             solver='lbfgs', verbose=True)"
      ]
     },
     "execution_count": 9,
     "metadata": {},
     "output_type": "execute_result"
    }
   ],
   "source": [
    "from sklearn.neural_network import MLPRegressor\n",
    "model = MLPRegressor(hidden_layer_sizes=(100,100), activation='relu', solver='lbfgs', alpha=0.001, batch_size='auto',\n",
    "                     learning_rate='constant', learning_rate_init=0.001, power_t=0.5, max_iter=100000, \n",
    "                     shuffle=True, random_state=None, tol=0.0001, verbose=True, warm_start=False, \n",
    "                     momentum=0.9, nesterovs_momentum=True, early_stopping=False, \n",
    "                     beta_1=0.9, beta_2=0.999, epsilon=1e-08, n_iter_no_change=10, max_fun=15000)\n",
    "model.fit(X_train_scaled,y_train_scaled)"
   ]
  },
  {
   "cell_type": "markdown",
   "id": "fewer-march",
   "metadata": {},
   "source": [
    "R2 score over the train set"
   ]
  },
  {
   "cell_type": "code",
   "execution_count": 10,
   "id": "italian-carter",
   "metadata": {},
   "outputs": [
    {
     "data": {
      "text/plain": [
       "0.842941169801623"
      ]
     },
     "execution_count": 10,
     "metadata": {},
     "output_type": "execute_result"
    }
   ],
   "source": [
    "model.score(X_train_scaled, y_train_scaled)"
   ]
  },
  {
   "cell_type": "markdown",
   "id": "graduate-plate",
   "metadata": {},
   "source": [
    "R2 score over test set"
   ]
  },
  {
   "cell_type": "code",
   "execution_count": 11,
   "id": "designed-texture",
   "metadata": {},
   "outputs": [
    {
     "data": {
      "text/plain": [
       "-1.143395949787754"
      ]
     },
     "execution_count": 11,
     "metadata": {},
     "output_type": "execute_result"
    }
   ],
   "source": [
    "model.score(X_test_scaled, y_test_scaled)"
   ]
  },
  {
   "cell_type": "code",
   "execution_count": null,
   "id": "divided-surveillance",
   "metadata": {},
   "outputs": [],
   "source": []
  },
  {
   "cell_type": "code",
   "execution_count": null,
   "id": "heavy-flour",
   "metadata": {},
   "outputs": [],
   "source": []
  },
  {
   "cell_type": "code",
   "execution_count": null,
   "id": "computational-leone",
   "metadata": {},
   "outputs": [],
   "source": []
  }
 ],
 "metadata": {
  "kernelspec": {
   "display_name": "Python 3",
   "language": "python",
   "name": "python3"
  },
  "language_info": {
   "codemirror_mode": {
    "name": "ipython",
    "version": 3
   },
   "file_extension": ".py",
   "mimetype": "text/x-python",
   "name": "python",
   "nbconvert_exporter": "python",
   "pygments_lexer": "ipython3",
   "version": "3.8.5"
  }
 },
 "nbformat": 4,
 "nbformat_minor": 5
}
